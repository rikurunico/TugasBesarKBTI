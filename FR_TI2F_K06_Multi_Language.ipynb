{
 "cells": [
  {
   "cell_type": "code",
   "execution_count": 1,
   "id": "72633887",
   "metadata": {},
   "outputs": [
    {
     "ename": "FileNotFoundError",
     "evalue": "[WinError 2] The system cannot find the file specified: 'sample.mp3'",
     "output_type": "error",
     "traceback": [
      "\u001b[1;31m---------------------------------------------------------------------------\u001b[0m",
      "\u001b[1;31mFileNotFoundError\u001b[0m                         Traceback (most recent call last)",
      "\u001b[1;32m<ipython-input-1-e7051384ddb5>\u001b[0m in \u001b[0;36mtranslate_text\u001b[1;34m(self)\u001b[0m\n\u001b[0;32m     79\u001b[0m         \u001b[0mself\u001b[0m\u001b[1;33m.\u001b[0m\u001b[0mshow_translation\u001b[0m\u001b[1;33m.\u001b[0m\u001b[0msetText\u001b[0m\u001b[1;33m(\u001b[0m\u001b[0mtranslated\u001b[0m\u001b[1;33m)\u001b[0m\u001b[1;33m\u001b[0m\u001b[1;33m\u001b[0m\u001b[0m\n\u001b[0;32m     80\u001b[0m         \u001b[0mtts\u001b[0m \u001b[1;33m=\u001b[0m \u001b[0mgtts\u001b[0m\u001b[1;33m.\u001b[0m\u001b[0mgTTS\u001b[0m\u001b[1;33m(\u001b[0m\u001b[0mtranslated\u001b[0m\u001b[1;33m,\u001b[0m \u001b[0mlang\u001b[0m\u001b[1;33m=\u001b[0m\u001b[0mtarget\u001b[0m\u001b[1;33m)\u001b[0m\u001b[1;33m\u001b[0m\u001b[1;33m\u001b[0m\u001b[0m\n\u001b[1;32m---> 81\u001b[1;33m         \u001b[0mos\u001b[0m\u001b[1;33m.\u001b[0m\u001b[0mremove\u001b[0m\u001b[1;33m(\u001b[0m\u001b[1;34m'sample.mp3'\u001b[0m\u001b[1;33m)\u001b[0m\u001b[1;33m\u001b[0m\u001b[1;33m\u001b[0m\u001b[0m\n\u001b[0m\u001b[0;32m     82\u001b[0m         \u001b[0mtts\u001b[0m\u001b[1;33m.\u001b[0m\u001b[0msave\u001b[0m\u001b[1;33m(\u001b[0m\u001b[1;34m'sample.mp3'\u001b[0m\u001b[1;33m)\u001b[0m\u001b[1;33m\u001b[0m\u001b[1;33m\u001b[0m\u001b[0m\n\u001b[0;32m     83\u001b[0m         \u001b[0mplaysound\u001b[0m\u001b[1;33m(\u001b[0m\u001b[1;34m'C:/Users/IQRIMA/KBTItubes/sample.mp3'\u001b[0m\u001b[1;33m)\u001b[0m\u001b[1;33m\u001b[0m\u001b[1;33m\u001b[0m\u001b[0m\n",
      "\u001b[1;31mFileNotFoundError\u001b[0m: [WinError 2] The system cannot find the file specified: 'sample.mp3'"
     ]
    },
    {
     "ename": "SystemExit",
     "evalue": "0",
     "output_type": "error",
     "traceback": [
      "An exception has occurred, use %tb to see the full traceback.\n",
      "\u001b[1;31mSystemExit\u001b[0m\u001b[1;31m:\u001b[0m 0\n"
     ]
    },
    {
     "name": "stderr",
     "output_type": "stream",
     "text": [
      "C:\\Users\\Nico\\anaconda3\\lib\\site-packages\\IPython\\core\\interactiveshell.py:3445: UserWarning: To exit: use 'exit', 'quit', or Ctrl-D.\n",
      "  warn(\"To exit: use 'exit', 'quit', or Ctrl-D.\", stacklevel=1)\n"
     ]
    }
   ],
   "source": [
    "import sys\n",
    "import os\n",
    "import random\n",
    "from deep_translator import GoogleTranslator\n",
    "import gtts\n",
    "from playsound import playsound\n",
    "\n",
    "from PyQt5.QtGui import *\n",
    "from PyQt5.QtWidgets import *\n",
    "from PyQt5.QtCore import *\n",
    "from PyQt5.QtMultimedia import QMediaContent, QMediaPlayer\n",
    "\n",
    "\n",
    "class Translator(QWidget):\n",
    "    def __init__(self):\n",
    "        super(Translator, self).__init__()\n",
    "        self.init_ui()\n",
    "\n",
    "\n",
    "    def init_ui(self):\n",
    "        vb = QVBoxLayout()\n",
    "        self.setLayout(vb)\n",
    "        \n",
    "        font = QFont(\"Serif\", 10)\n",
    "        self.setStyleSheet(\"background-color: rgb(242, 175, 175);\")\n",
    "        \n",
    "        self.label = QLabel(\"MULTI LANGUAGE\")\n",
    "        self.label.setFont(QFont(\"Times\", 15))\n",
    "        self.label.setStyleSheet(\"background-color: rgb(233, 124, 124);\")\n",
    "        self.label.setAlignment(Qt.AlignCenter)\n",
    "        vb.addWidget(self.label)\n",
    "        \n",
    "        self.insert_text = QTextEdit()\n",
    "        self.insert_text.setFont(font)\n",
    "        self.insert_text.setStyleSheet(\"background-color: rgb(231, 206, 206);\")\n",
    "        vb.addWidget(self.insert_text)\n",
    "        \n",
    "\n",
    "        self.show_translation = QTextEdit()\n",
    "        self.show_translation.setFont(font)\n",
    "        self.show_translation.setStyleSheet(\"background-color: rgb(231, 206, 206);\")\n",
    "        vb.addWidget(self.show_translation)\n",
    "\n",
    "        self.translatebtn = QPushButton(\"Terjemahkan\")\n",
    "        self.translatebtn.setFont(font)\n",
    "        self.translatebtn.setStyleSheet(\"background-color: rgb(229, 229, 229);\")\n",
    "        self.translatebtn.setFont(font)\n",
    "        vb.addWidget(self.translatebtn)\n",
    "        \n",
    "\n",
    "       \n",
    "        self.combo = QComboBox()\n",
    "        self.combo.setFont(font)\n",
    "        bahasa =[\"Arabic\",\"Amharic\", \"Afrikaans\", \"Bulgarian\", \"English\", \"Indonesian\", \"Italian\", \"Spanish\", \"Kannada\", \n",
    "                 \"Korean\", \"Malay\", \"Mongolian\", \"German\", \"Portuguese\", \"Russian\", \"Romanian\", \"Sundanese\", \n",
    "                 \"Javanese\", \"Japanese\", \"French\", \"Thai\"]\n",
    "        self.combo.addItems(bahasa)\n",
    "        self.combo.setEditable(True)\n",
    "        self.combo.lineEdit().setAlignment(Qt.AlignCenter)\n",
    "        vb.addWidget(self.combo)\n",
    "        self.targer ={\"Arabic\" : \"ar\", \"Amharic\" : \"am\", \"Afrikaans\" : \"af\", \"Bulgarian\" : \"bg\", \"English\" : \"en\", \"Indonesian\" : \"id\", \n",
    "                      \"Italian\" : \"it\", \"Spanish\" : \"es\", \"Kannada\" : \"kn\", \"Korean\" : \"ko\", \"Malay\" : \"ms\", \"Mongolian\" : \"mn\", \n",
    "                      \"German\" : \"de\", \"Portuguese\" : \"pt\", \"Russian\" : \"ru\", \"Romanian\" : \"ro\", \"Sundanese\" : \"su\", \n",
    "                      \"Javanese\" : \"jv\", \"Japanese\" : \"ja\", \"French\" : \"fr\", \"Thai\" : \"th\"}\n",
    "        \n",
    "        self.player = QMediaPlayer()\n",
    "\n",
    "        self.translatebtn.clicked.connect(self.translate_text)\n",
    "       \n",
    "\n",
    "    def translate_text(self):\n",
    "        global mp3\n",
    "        mp3 = random.randint(10000, 1000000)\n",
    "        target = self.targer[self.combo.currentText()]\n",
    "        text = self.insert_text.toPlainText()\n",
    "        translated = GoogleTranslator(\n",
    "            source=\"auto\", target=target).translate(text)\n",
    "        self.show_translation.clear()\n",
    "        self.show_translation.setText(translated)\n",
    "        tts = gtts.gTTS(translated, lang=target)\n",
    "        os.remove('sample.mp3')\n",
    "        tts.save('sample.mp3')\n",
    "        #Ganti Sesuai Directory Sample MP3 Kalian Masing Masing\n",
    "        playsound('C:/Users/IQRIMA/KBTItubes/sample.mp3')\n",
    "        \n",
    "        \n",
    "\n",
    "\n",
    "if __name__ == \"__main__\":\n",
    "    app = QApplication(sys.argv)\n",
    "    gui = Translator()\n",
    "    gui.setGeometry(100, 100, 800, 500)\n",
    "    gui.setWindowTitle(\"Multi-Language 2021\")\n",
    "    gui.show()\n",
    "    sys.exit(app.exec_())"
   ]
  },
  {
   "cell_type": "code",
   "execution_count": null,
   "id": "3aad66a4",
   "metadata": {},
   "outputs": [],
   "source": []
  },
  {
   "cell_type": "code",
   "execution_count": null,
   "id": "fcf52e4a",
   "metadata": {},
   "outputs": [],
   "source": []
  },
  {
   "cell_type": "code",
   "execution_count": null,
   "id": "5241bfd7",
   "metadata": {},
   "outputs": [],
   "source": []
  }
 ],
 "metadata": {
  "kernelspec": {
   "display_name": "Python 3",
   "language": "python",
   "name": "python3"
  },
  "language_info": {
   "codemirror_mode": {
    "name": "ipython",
    "version": 3
   },
   "file_extension": ".py",
   "mimetype": "text/x-python",
   "name": "python",
   "nbconvert_exporter": "python",
   "pygments_lexer": "ipython3",
   "version": "3.8.8"
  }
 },
 "nbformat": 4,
 "nbformat_minor": 5
}
